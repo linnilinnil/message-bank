{
 "cells": [
  {
   "cell_type": "markdown",
   "metadata": {},
   "source": [
    "# Creating a flask-bsed online message bank "
   ]
  },
  {
   "attachments": {},
   "cell_type": "markdown",
   "metadata": {},
   "source": [
    "## Intro"
   ]
  },
  {
   "attachments": {},
   "cell_type": "markdown",
   "metadata": {},
   "source": [
    "In this blog post, we would be creating a flask-based online message bank deployed as a python web app using the google cloud service and mySQL database.\n",
    "\n",
    "A web application is a computer program that utilizes web browsers and web technology to perform tasks over the Internet, accessible by users with internet connections (Stackpath). \n",
    "\n",
    "The skills you’ll need are:\n",
    "\n",
    "- Flask fundamentals, including render_template(), the basic anatomy of templates, and user interactions.\n",
    "- Database skills, including adding items to databases and displaying them.\n",
    "- Basic CSS (Cascading styling sheets) in order to add a bit of personal flare to your webapp. \n",
    "- There would be a section that briefly goes over how to deploy the web app on google cloud. \n",
    "\n",
    "Built With\n",
    "Flask - Web framework and related modules\n",
    "Google Cloud - App Deployment\n",
    "MySQL - Database \n",
    "Bootstrap - Styling\n",
    "Jinja2 - Template formatting\n",
    "wtforms - Forms\n",
    "\n"
   ]
  },
  {
   "attachments": {},
   "cell_type": "markdown",
   "metadata": {},
   "source": [
    "## Functionalities Overview"
   ]
  },
  {
   "attachments": {},
   "cell_type": "markdown",
   "metadata": {},
   "source": [
    "The app you’re going to build is a simple message bank. It should do two things:\n",
    "\n",
    "1. Allow the user to submit messages to the bank.\n",
    "2. Allow the user to view a sample of the messages currently stored in the bank.\n",
    "3. Additionally, you should use CSS to make your app look attractive and interesting.\n"
   ]
  },
  {
   "attachments": {},
   "cell_type": "markdown",
   "metadata": {},
   "source": [
    "## Setting up the basics"
   ]
  },
  {
   "attachments": {},
   "cell_type": "markdown",
   "metadata": {},
   "source": [
    "We first create a .py file called __app.py__ where we would import modules and define the application frame. \n",
    "\n",
    "```python\n",
    "from flask import Flask, render_template,request, redirect, url_for, g\n",
    "import sqlite3\n",
    "\n",
    "app = Flask(__name__)\n",
    "\n",
    "# Code for different pages to be inserted below\n",
    "# Begin -------\n",
    "# End ---------\n",
    "\n",
    "if __name__ == \"__main__\":\n",
    "    app.run(port=8000, debug=True)\n",
    "```"
   ]
  },
  {
   "attachments": {},
   "cell_type": "markdown",
   "metadata": {},
   "source": [
    "Type __python app.py__ in the terminal to run the flask app. \n",
    "\n",
    "Alternatively, without the app.run section, we run the following commands in the terminal:  \n",
    "(Setting the environmental variables to dev and debug mode will allow you to see updates of the web app without the need to resetart the web app everytime)\n",
    "```\n",
    "export FLASK_ENV=development\n",
    "export FLASK_DEBUG=1\n",
    "flask run \n",
    "```\n",
    "which will show you the following lines:\n",
    "\n",
    "```\n",
    "* Environment: development\n",
    " * Debug mode: on\n",
    " * Running on http://127.0.0.1:5000/ (Press CTRL+C to quit)\n",
    " * Restarting with fsevents reloader\n",
    " * Debugger is active!\n",
    " * Debugger PIN: 331-048-817\n",
    " ```\n",
    "\n",
    " following the link after __Running on__ to check out your 'website'."
   ]
  },
  {
   "attachments": {},
   "cell_type": "markdown",
   "metadata": {},
   "source": [
    "Next, we write the separate functions for different pages:\n",
    "- __\\\\__: the root directory, we will have this redirected to the \"home\" page\n",
    "- __home__: front page of the message bank\n",
    "- __submit__: page for submitting the message, contains a form, allows post&get\n",
    "- __view__: page for viewing random messages, contains a form, allows post&get"
   ]
  },
  {
   "attachments": {},
   "cell_type": "markdown",
   "metadata": {},
   "source": [
    "```python\n",
    "# @app,route... are decoraters ,i.e., functions wrappers that allow you to execute\n",
    "# codes before and after it that does not change the func definition\n",
    "# in this case, it specifies what function would be called to render the page \n",
    "# under a specific web directory/route\n",
    "@app.route(\"/\",  methods=['GET']) \n",
    "def index():\n",
    "    return redirect(url_for('home'))\n",
    "\n",
    "@app.route(\"/home/\",  methods=['GET', 'POST'])\n",
    "def home():\n",
    "    return render_template(\"home.html\")\n",
    "\n",
    "@app.route(\"/submit/\", methods=['POST', 'GET'])\n",
    "def submit():\n",
    "    # if we access the page from another page with differnt url\n",
    "    if request.method == \"GET\":\n",
    "        return render_template(\"submit.html\")\n",
    "    # if we submit a form on this page and land on the same page again\n",
    "    else: \n",
    "        # the insert_message function updates the messages database\n",
    "        insert_message(request)\n",
    "        # pass in the user handle to write a thank you message to the user\n",
    "        return render_template(\"submit.html\", \n",
    "                               name=request.form['name'])\n",
    "\n",
    "@app.route(\"/view/\",  methods=['GET', 'POST'])\n",
    "def view():\n",
    "    # default: gives one message\n",
    "    if request.method == \"GET\":\n",
    "        # pass in the list of messages we retrieve from the database for display\n",
    "        return render_template('view.html', \n",
    "                               messages = random_messages(1))\n",
    "    else: \n",
    "    # add a slider that allows users to change the num. of messages displayed\n",
    "        return render_template('view.html', \n",
    "                               messages = random_messages(int(request.form['n'])))\n",
    "```"
   ]
  },
  {
   "attachments": {},
   "cell_type": "markdown",
   "metadata": {},
   "source": [
    "## Enabling submissions  \n",
    "After defining the functions for different routes, we fill in the functions for updating the message dataset based on user input and the function for displaying random messages. \n",
    "\n"
   ]
  },
  {
   "attachments": {},
   "cell_type": "markdown",
   "metadata": {},
   "source": [
    "```python\n",
    "# this function is used to retrive the message database \n",
    "def get_message_db():\n",
    "    # g is an object provided by Flask. \n",
    "    # It is a global namespace for holding any data you want during a single app context.\n",
    "    # in this case, we create a message_db variable under g to store the dataset containing user messages\n",
    "    try:\n",
    "            # if the db already exists, just return it\n",
    "            return g.message_db\n",
    "    except:\n",
    "            # if not, we establish the database\n",
    "            g.message_db = sqlite3.connect(\"messages_db.sqlite\")\n",
    "            cursor = g.message_db.cursor()\n",
    "            # we create a data table with id (primary key), handle (user name), and message (user message)\n",
    "            # called messages if it does not exist in messages_db yet\n",
    "            cmd = \"\"\"\n",
    "            CREATE TABLE IF NOT EXISTS messages(\n",
    "                id INTEGER PRIMARY KEY AUTOINCREMENT,\n",
    "                handle TEXT NOT NULL,\n",
    "                message TEXT NOT NULL\n",
    "            );\n",
    "            \"\"\"\n",
    "            cursor.execute(cmd)\n",
    "            g.message_db.commit()\n",
    "            return g.message_db\n",
    "```"
   ]
  },
  {
   "attachments": {},
   "cell_type": "markdown",
   "metadata": {},
   "source": [
    "__Note:__ when working directly with SQL commands, it is necessary to run db.commit() after inserting a row into db in order to ensure that your row insertion has been saved.  \n",
    "\n",
    "You should ensure that the ID number of each message is unique. One way to do this is by setting the ID number of a message equal to one plus the current number of rows in message_db.  Another way to do this is setting it as an autoincremented primary key.\n",
    "\n",
    "Don’t forget to close the database connection within the function!\n"
   ]
  },
  {
   "attachments": {},
   "cell_type": "markdown",
   "metadata": {},
   "source": [
    "We then write the function to update the database.   \n",
    "```python\n",
    "# this function inserts user input message to the message_db database\n",
    "def insert_message(request):\n",
    "    # establish connection to the database\n",
    "    db = get_message_db()\n",
    "    # extract message and handle from the request form\n",
    "    message = request.form['msg']\n",
    "    handle = request.form['name']\n",
    "    # update the database\n",
    "    cmd = 'INSERT INTO messages (handle, message) VALUES (?, ?)'\n",
    "    db.execute(cmd,(handle, message))\n",
    "    # commit changes and close connection\n",
    "    db.commit()\n",
    "    db.close()\n",
    "```"
   ]
  },
  {
   "attachments": {},
   "cell_type": "markdown",
   "metadata": {},
   "source": [
    "## Viewing Random Submissions \n",
    "\n",
    "In this part, we will write a function called random_messages(n) which will return a collection of n random messages from the message_db, or fewer if necessary. "
   ]
  },
  {
   "attachments": {},
   "cell_type": "markdown",
   "metadata": {},
   "source": [
    "```python\n",
    "# fetch n random messages from the database\n",
    "# if n > # of current rows, n = # of current rows\n",
    "def random_messages(n):\n",
    "    # establish connection\n",
    "    db = get_message_db()\n",
    "    cursor = g.message_db.cursor()\n",
    "    # select random messages, fetch both the handle and message\n",
    "    cmd = 'SELECT handle, message FROM messages ORDER BY RANDOM() LIMIT ?'\n",
    "    msgs = cursor.execute(cmd,(n,)).fetchall()\n",
    "    # close connection\n",
    "    db.close()\n",
    "    return msgs\n",
    "```"
   ]
  },
  {
   "attachments": {},
   "cell_type": "markdown",
   "metadata": {},
   "source": [
    "## Defining html templates"
   ]
  },
  {
   "attachments": {},
   "cell_type": "markdown",
   "metadata": {},
   "source": [
    "In this part, we will define the templates for all the pages: home page (home.html), message bank submission page (submit.html), and message bank random viewing page (view.html).\n",
    "\n",
    "We will first define a base template which styles the pages we would be showing for the web apps, then have the __submit.html__ extends the __base.html__. Both htmls were to be put under a folder called __template__.\n",
    "Here are more examples about extends from [flask](https://flask.palletsprojects.com/en/2.2.x/tutorial/templates/#register) and [jinja](https://jinja.palletsprojects.com/en/3.1.x/templates/#template-inheritance)."
   ]
  },
  {
   "attachments": {},
   "cell_type": "markdown",
   "metadata": {},
   "source": [
    "```html\n",
    "<!DOCTYPE html>\n",
    "<!--created by marlene lin-->\n",
    "\n",
    "<html lang=\"en\">\n",
    "    <head>\n",
    "        <!-- Required meta tags -->\n",
    "<meta http-equiv=\"Content-Type\" content=\"text/html; charset=utf-8\">\n",
    "<meta name=\"viewport\" content=\"width=device-width, initial-scale=1, shrink-to-fit=no\">    \n",
    "        <!-- Bootstrap CSS and my own -->\n",
    "        <link href=\"https://stackpath.bootstrapcdn.com/bootstrap/4.1.3/css/bootstrap.min.css\" rel=\"stylesheet\">\n",
    "        <link href=\"/static/favicon.ico\" rel=\"icon\">\n",
    "        <link href=\"/static/styles.css\" rel=\"stylesheet\">\n",
    "         <!-- Block that allows other pages to customize title -->\n",
    "        <title>Message bank: {% block title %}{% endblock %}</title>\n",
    "    </head>\n",
    "    <body>\n",
    "        <div class=\"container\">\n",
    "            <div class=\"row header\">\n",
    "            </div>\n",
    "            <div class=\"row\">\n",
    "               <div class=\"col-md-1 col-lg-1 col-xl-1\"></div>\n",
    "               <div class=\"col-md-3 col-lg-3 col-xl-3 sidebar\">\n",
    "                <!-- navbar -->\n",
    "                <ul class=\"nav flex-column\">\n",
    "\t\t\t\t\t\t\t\t<li class=\"nav-item\">\n",
    "\t\t\t\t\t\t\t\t\t<p><i><a class=\"nav-link\" href=\"/home\"><b>Welcome: </b></a></i></p>\n",
    "\t\t\t\t\t\t\t\t</li>\n",
    "\t\t\t\t\t\t\t\t<li class=\"nav-item\">\n",
    "\t\t\t\t\t\t\t\t\t<a class=\"nav-link\" href=\"/submit\">Write a Message</a>\n",
    "\t\t\t\t\t\t\t\t</li>\n",
    "\t\t\t\t\t\t\t\t<li class=\"nav-item\">\n",
    "\t\t\t\t\t\t\t\t\t<a class=\"nav-link\" href=\"/view\">View messages</a>\n",
    "\t\t\t\t\t\t\t\t</li>\n",
    "\t\t\t\t\t\t\t</ul>\n",
    "               </div>\n",
    "        <!--the block where the main content is hosted -->\n",
    "        <div class=\"col-md-8 col-lg-8 col-xl-8 maininfo\">\n",
    "          {% block main %}{% endblock %}\n",
    "        </div>\n",
    "  <div class=\"col-1\"></div>\n",
    "           </div>\n",
    "           <div class=\"row\">\n",
    "               <div class=\"col footer\">\n",
    "\n",
    "               </div>\n",
    "           </div>\n",
    "       </div>\n",
    "        <script src=\"https://stackpath.bootstrapcdn.com/bootstrap/4.1.3/js/bootstrap.min.js\" integrity=\"sha384-ChfqqxuZUCnJSK3+MXmPNIyE6ZbWh2IMqE241rYiqJxyMiZ6OW/JmZQ5stwEULTy\" crossorigin=\"anonymous\"></script>\n",
    "    </body>\n",
    "</html>\n",
    "```\n"
   ]
  },
  {
   "attachments": {},
   "cell_type": "markdown",
   "metadata": {},
   "source": [
    "Next, we will define submit.html which has the following three user interface elements:\n",
    "\n",
    "- A text box for submitting a message.\n",
    "- A text box for submitting the name of the user.\n",
    "- A “submit” button.  "
   ]
  },
  {
   "attachments": {},
   "cell_type": "markdown",
   "metadata": {},
   "source": [
    "## Additional stylings"
   ]
  },
  {
   "attachments": {},
   "cell_type": "markdown",
   "metadata": {},
   "source": [
    "## Message bank screenshots"
   ]
  },
  {
   "cell_type": "code",
   "execution_count": null,
   "metadata": {},
   "outputs": [],
   "source": []
  }
 ],
 "metadata": {
  "kernelspec": {
   "display_name": "base",
   "language": "python",
   "name": "python3"
  },
  "language_info": {
   "codemirror_mode": {
    "name": "ipython",
    "version": 3
   },
   "file_extension": ".py",
   "mimetype": "text/x-python",
   "name": "python",
   "nbconvert_exporter": "python",
   "pygments_lexer": "ipython3",
   "version": "3.8.8"
  },
  "orig_nbformat": 4,
  "vscode": {
   "interpreter": {
    "hash": "dea020618c6d75d6a2b362878fa8ffdb3663cdd93010adabd1eb95477499d165"
   }
  }
 },
 "nbformat": 4,
 "nbformat_minor": 2
}
